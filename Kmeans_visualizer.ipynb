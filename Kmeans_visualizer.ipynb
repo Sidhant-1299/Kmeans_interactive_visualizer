{
 "cells": [
  {
   "cell_type": "code",
   "execution_count": 58,
   "metadata": {},
   "outputs": [],
   "source": [
    "import numpy as np \n",
    "import matplotlib.pyplot as plt\n",
    "import pandas as pd\n",
    "from matplotlib.widgets import Button,Slider"
   ]
  },
  {
   "cell_type": "code",
   "execution_count": 4,
   "metadata": {},
   "outputs": [],
   "source": [
    "class Coordinate:\n",
    "    def __init__(self,x,y):\n",
    "        self.x = x\n",
    "        self.y = y\n",
    "    def getX(self):\n",
    "        return self.x\n",
    "    def getY(self):\n",
    "        return self.y\n",
    "    def setX(self,new_x):\n",
    "        self.x = new_x\n",
    "    def setY(self,new_y):\n",
    "        self.y = new_y\n",
    "    def distance(self,other:\"Coordinate\"):\n",
    "        x1 = self.x\n",
    "        x2 = other.x\n",
    "        y1 = self.y\n",
    "        y2 = other.y\n",
    "        return np.sqrt((x2-x1)**2 + (y2-y1)**2)\n",
    "    def __repr__(self):\n",
    "        return f\"Coordinate(x={self.x},y={self.y})\"\n",
    "        "
   ]
  },
  {
   "cell_type": "code",
   "execution_count": 5,
   "metadata": {},
   "outputs": [
    {
     "name": "stdout",
     "output_type": "stream",
     "text": [
      "5.0\n",
      "Coordinate(x=3,y=4)\n"
     ]
    }
   ],
   "source": [
    "o = Coordinate(0,0)\n",
    "a = Coordinate(3,4)\n",
    "\n",
    "print(a.distance(o))\n",
    "print(a)"
   ]
  },
  {
   "cell_type": "code",
   "execution_count": 70,
   "metadata": {},
   "outputs": [],
   "source": [
    "class KMeans:\n",
    "    def __init__(self, data, n_cluster=2, max_iter=100, threshold =1e-4):\n",
    "        \"\"\"data validation and key variable initialization\"\"\"\n",
    "        #validate data\n",
    "        #Check if data is 2D \n",
    "        #validate if either data is 2D DataFrame or a list[Tuple[float,float]]\n",
    "        if isinstance(data,pd.DataFrame):\n",
    "            #check if data shape is 2D\n",
    "            (rows,cols) = data.shape\n",
    "            if cols != 2:\n",
    "                raise ValueError(\"DataFrame should have only 2 columns(Visualizer only for 2D dataframe)\")\n",
    "            self.data = [Coordinate(x, y) for i in range(rows) for x, y in [df.iloc[i]]]\n",
    "            self.isDataFrame = True\n",
    "            self.column_names = [data.columns]\n",
    "        else:\n",
    "            try:\n",
    "                self.data = [Coordinate(x,y) for x,y in data]\n",
    "                self.isDataFrame = False\n",
    "                self.column_names = ['x','y']\n",
    "            except:\n",
    "                raise ValueError(\"Data must be a 2D array in the shape (X,2) where X is number of rows and 2 is number of columns\")\n",
    "\n",
    "        self.x_data = [point.getX() for point in self.data]\n",
    "        self.y_data = [point.getY() for point in self.data]\n",
    "        \n",
    "        self.n_cluster = n_cluster\n",
    "        self.max_iter = max_iter\n",
    "        self.threshold = threshold\n",
    "        #self.centroids : Coordinate object\n",
    "        self.centroids = self.initiate_centroid()\n",
    "        self.cluster = {cluster:[] for cluster in range(n_cluster)}\n",
    "        #check for convergence\n",
    "        self.convergence = False\n",
    "            \n",
    "    def initiate_centroid(self):\n",
    "        \"\"\"Initiate random centroid\"\"\"\n",
    "        min_x = np.min(self.x_data)\n",
    "        min_y = np.min(self.y_data)\n",
    "        max_x = np.max(self.x_data)\n",
    "        max_y = np.max(self.y_data)\n",
    "        centroid_x = np.random.randint(min_x,max_x+1,self.n_cluster)\n",
    "        centroid_y = np.random.randint(min_y,max_y+1,self.n_cluster)\n",
    "        centroids = [Coordinate(x,y) for (x,y) in zip(centroid_x,centroid_y)]\n",
    "        return centroids\n",
    "\n",
    "    def get_centroid(self):\n",
    "        return self.centroids\n",
    "        \n",
    "    def assign_cluster(self):\n",
    "        \"\"\"assign each point in data to cluster\"\"\"\n",
    "        new_cluster = {cluster:[] for cluster in range(self.n_cluster)}\n",
    "        for point in self.data:\n",
    "            cluster_index = np.argmin([point.distance(centroid) for centroid in self.centroids])\n",
    "            new_cluster[cluster_index].append(point)\n",
    "        #convergence if no point changes cluster\n",
    "        self.convergence = (self.cluster == new_cluster)\n",
    "        self.cluster = new_cluster\n",
    "\n",
    "    def get_cluster(self):\n",
    "        return self.cluster\n",
    "\n",
    "    def has_converged(self):\n",
    "        return self.convergence\n",
    "        \n",
    "    def update_centroid(self):\n",
    "        \"\"\"update centroid as the avg of all the distances of the new cluster\"\"\"\n",
    "        #check for empty cluster\n",
    "        new_centroids = []\n",
    "        for centroid,points in self.cluster.items():\n",
    "            #points is an array of Coordinate object\n",
    "            if points:\n",
    "                new_centroid_x = np.round(np.mean([point.getX() for point in points]),2)\n",
    "                new_centroid_y = np.round(np.mean([point.getY() for point in points]),2)\n",
    "                new_centroid = Coordinate(new_centroid_x,new_centroid_y)\n",
    "                new_centroids.append(new_centroid)\n",
    "            else:\n",
    "                new_centroids.append(centroid)\n",
    "        self.centroids = new_centroids\n",
    "        \n",
    "    def fit(self):\n",
    "        #converges is no point switches group\n",
    "        pass\n"
   ]
  },
  {
   "cell_type": "markdown",
   "metadata": {},
   "source": [
    "<h1>key references</h1>\n",
    "\n",
    "[Matplotlib Widgets](https://matplotlib.org/stable/gallery/widgets/index.html)\\\n",
    "[Snap Sliders](https://matplotlib.org/stable/gallery/widgets/slider_snap_demo.html)\\\n",
    "[Buttons](https://matplotlib.org/stable/gallery/widgets/buttons.html#sphx-glr-gallery-widgets-buttons-py)"
   ]
  },
  {
   "cell_type": "code",
   "execution_count": null,
   "metadata": {},
   "outputs": [],
   "source": [
    "TODO: \n",
    "1) add buttons for random initation\n",
    "2) add colors for upto 10 clusters\n",
    "3) add slider for number of cluster with discrete value\n",
    "4) add a button for animation\n",
    "5) Labels for clusters\n",
    "6) additional elbow graph for inertia score and sillhouett score "
   ]
  },
  {
   "cell_type": "code",
   "execution_count": null,
   "metadata": {},
   "outputs": [],
   "source": [
    "\n",
    "class KMeans_Visualizer:\n",
    "    def __init__(self,data):\n",
    "        self.data = data"
   ]
  },
  {
   "cell_type": "code",
   "execution_count": 30,
   "metadata": {},
   "outputs": [
    {
     "name": "stdout",
     "output_type": "stream",
     "text": [
      "[Coordinate(x=34.42,y=87.8), Coordinate(x=88.95,y=62.64), Coordinate(x=11.8,y=73.23), Coordinate(x=25.1,y=84.33), Coordinate(x=89.34,y=8.13), Coordinate(x=91.25,y=7.91), Coordinate(x=56.3,y=28.25), Coordinate(x=17.24,y=15.86), Coordinate(x=29.47,y=54.46), Coordinate(x=88.69,y=36.65), Coordinate(x=24.3,y=39.47), Coordinate(x=53.72,y=5.46), Coordinate(x=60.77,y=78.94), Coordinate(x=92.52,y=49.76), Coordinate(x=29.59,y=84.79), Coordinate(x=93.2,y=2.07), Coordinate(x=41.17,y=34.56), Coordinate(x=16.77,y=46.97), Coordinate(x=62.93,y=17.85), Coordinate(x=13.09,y=7.55)]\n",
      "(20, 2)\n"
     ]
    }
   ],
   "source": [
    "data = np.array([[34.42, 87.8 ],\n",
    " [88.95, 62.64],\n",
    " [11.8 , 73.23],\n",
    " [25.1 , 84.33],\n",
    " [89.34 , 8.13],\n",
    " [91.25 , 7.91],\n",
    " [56.3 , 28.25],\n",
    " [17.24, 15.86],\n",
    " [29.47 ,54.46],\n",
    " [88.69, 36.65],\n",
    " [24.3,  39.47],\n",
    " [53.72,  5.46],\n",
    " [60.77 ,78.94],\n",
    " [92.52 ,49.76],\n",
    " [29.59, 84.79],\n",
    " [93.2 ,  2.07],\n",
    " [41.17 ,34.56],\n",
    " [16.77, 46.97],\n",
    " [62.93, 17.85],\n",
    " [13.09 , 7.55],])\n"
   ]
  },
  {
   "cell_type": "code",
   "execution_count": 72,
   "metadata": {},
   "outputs": [
    {
     "data": {
      "text/plain": [
       "[Coordinate(x=36,y=84), Coordinate(x=54,y=50)]"
      ]
     },
     "execution_count": 72,
     "metadata": {},
     "output_type": "execute_result"
    }
   ],
   "source": [
    "k = KMeans(data=data)\n",
    "k.get_centroid()"
   ]
  },
  {
   "cell_type": "code",
   "execution_count": 87,
   "metadata": {},
   "outputs": [
    {
     "data": {
      "text/plain": [
       "{0: [Coordinate(x=34.42,y=87.8),\n",
       "  Coordinate(x=11.8,y=73.23),\n",
       "  Coordinate(x=25.1,y=84.33),\n",
       "  Coordinate(x=29.47,y=54.46),\n",
       "  Coordinate(x=24.3,y=39.47),\n",
       "  Coordinate(x=60.77,y=78.94),\n",
       "  Coordinate(x=29.59,y=84.79),\n",
       "  Coordinate(x=16.77,y=46.97)],\n",
       " 1: [Coordinate(x=88.95,y=62.64),\n",
       "  Coordinate(x=89.34,y=8.13),\n",
       "  Coordinate(x=91.25,y=7.91),\n",
       "  Coordinate(x=56.3,y=28.25),\n",
       "  Coordinate(x=17.24,y=15.86),\n",
       "  Coordinate(x=88.69,y=36.65),\n",
       "  Coordinate(x=53.72,y=5.46),\n",
       "  Coordinate(x=92.52,y=49.76),\n",
       "  Coordinate(x=93.2,y=2.07),\n",
       "  Coordinate(x=41.17,y=34.56),\n",
       "  Coordinate(x=62.93,y=17.85),\n",
       "  Coordinate(x=13.09,y=7.55)]}"
      ]
     },
     "execution_count": 87,
     "metadata": {},
     "output_type": "execute_result"
    }
   ],
   "source": [
    "k.assign_cluster()\n",
    "k.get_cluster()"
   ]
  },
  {
   "cell_type": "code",
   "execution_count": 88,
   "metadata": {},
   "outputs": [
    {
     "data": {
      "text/plain": [
       "[Coordinate(x=29.03,y=68.75), Coordinate(x=65.7,y=23.06)]"
      ]
     },
     "execution_count": 88,
     "metadata": {},
     "output_type": "execute_result"
    }
   ],
   "source": [
    "k.update_centroid()\n",
    "k.get_centroid()"
   ]
  },
  {
   "cell_type": "code",
   "execution_count": 89,
   "metadata": {},
   "outputs": [
    {
     "data": {
      "text/plain": [
       "True"
      ]
     },
     "execution_count": 89,
     "metadata": {},
     "output_type": "execute_result"
    }
   ],
   "source": [
    "k.has_converged()"
   ]
  }
 ],
 "metadata": {
  "kernelspec": {
   "display_name": "Python 3 (ipykernel)",
   "language": "python",
   "name": "python3"
  },
  "language_info": {
   "codemirror_mode": {
    "name": "ipython",
    "version": 3
   },
   "file_extension": ".py",
   "mimetype": "text/x-python",
   "name": "python",
   "nbconvert_exporter": "python",
   "pygments_lexer": "ipython3",
   "version": "3.10.3"
  }
 },
 "nbformat": 4,
 "nbformat_minor": 4
}

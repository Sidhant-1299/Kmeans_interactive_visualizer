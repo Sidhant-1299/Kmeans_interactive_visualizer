{
 "cells": [
  {
   "cell_type": "code",
   "execution_count": 1,
   "metadata": {},
   "outputs": [],
   "source": [
    "import numpy as np \n",
    "import matplotlib.pyplot as pl\n",
    "import pandas as pd"
   ]
  },
  {
   "cell_type": "code",
   "execution_count": 2,
   "metadata": {},
   "outputs": [],
   "source": [
    "class Coordinate:\n",
    "    def __init__(self,x,y):\n",
    "        self.x = x\n",
    "        self.y = y\n",
    "    def getX(self):\n",
    "        return self.x\n",
    "    def getY(self):\n",
    "        return self.y\n",
    "    def setX(self,new_x):\n",
    "        self.x = new_x\n",
    "    def setY(self,new_y):\n",
    "        self.y = new_y\n",
    "    def distance(self,other:\"Coordinate\"):\n",
    "        x1 = self.x\n",
    "        x2 = other.x\n",
    "        y1 = self.y\n",
    "        y2 = other.y\n",
    "        return np.sqrt((x2-x1)**2 + (y2-y1)**2)\n",
    "    def __repr__(self):\n",
    "        return f\"Coordinate(x={self.x},y={self.y})\"\n",
    "        "
   ]
  },
  {
   "cell_type": "code",
   "execution_count": 3,
   "metadata": {},
   "outputs": [
    {
     "name": "stdout",
     "output_type": "stream",
     "text": [
      "5.0\n",
      "Coordinate(x=3,y=4)\n"
     ]
    }
   ],
   "source": [
    "o = Coordinate(0,0)\n",
    "a = Coordinate(3,4)\n",
    "\n",
    "print(a.distance(o))\n",
    "print(a)"
   ]
  },
  {
   "cell_type": "code",
   "execution_count": 1,
   "metadata": {},
   "outputs": [],
   "source": [
    "class KMeans:\n",
    "    def __init__(self, data, n_cluster=2, max_iter=100, threshold =1e-4):\n",
    "        #data validation\n",
    "        self.n_cluster = n_cluster\n",
    "        self.max_iteration = max_iteration\n",
    "        self.threshold = threshold\n",
    "        #self.centroids : Coordinate object\n",
    "        self.centroids = []\n",
    "        self.cluster = {i:[] for i in range(n_cluster)}\n",
    "        \n",
    "    def initiate_centroid(self):\n",
    "        #rng = np.random.default_rng()\n",
    "        #min_x = np.min(\n",
    "        pass\n",
    "    def assign_cluster(self):\n",
    "        pass\n",
    "    def update_centroid(self):\n",
    "        pass\n",
    "    def fit(self):\n",
    "        pass\n"
   ]
  },
  {
   "cell_type": "code",
   "execution_count": null,
   "metadata": {},
   "outputs": [],
   "source": []
  }
 ],
 "metadata": {
  "kernelspec": {
   "display_name": "Python 3 (ipykernel)",
   "language": "python",
   "name": "python3"
  },
  "language_info": {
   "codemirror_mode": {
    "name": "ipython",
    "version": 3
   },
   "file_extension": ".py",
   "mimetype": "text/x-python",
   "name": "python",
   "nbconvert_exporter": "python",
   "pygments_lexer": "ipython3",
   "version": "3.11.0"
  }
 },
 "nbformat": 4,
 "nbformat_minor": 4
}
